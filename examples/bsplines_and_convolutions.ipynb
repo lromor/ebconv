{
 "cells": [
  {
   "cell_type": "code",
   "execution_count": null,
   "metadata": {},
   "outputs": [],
   "source": [
    "from ipywidgets import GridspecLayout, Output\n",
    "from IPython.display import display\n",
    "\n",
    "import numpy as np\n",
    "import matplotlib.pyplot as plt\n",
    "import sys\n",
    "sys.path.insert(0, '../src')\n",
    "import ebconv\n",
    "import ebconv.nn.functional\n",
    "import scipy\n",
    "import scipy.misc\n",
    "import scipy.ndimage\n",
    "import torch\n",
    "import matplotlib.cm as cm\n"
   ]
  },
  {
   "cell_type": "code",
   "execution_count": null,
   "metadata": {},
   "outputs": [],
   "source": [
    "from ebconv.splines import BSpline\n",
    "from ebconv.kernel import BSplineKernelBasis\n",
    "from ebconv.utils import tensordot"
   ]
  },
  {
   "cell_type": "markdown",
   "metadata": {},
   "source": [
    "# BSplines examples"
   ]
  },
  {
   "cell_type": "code",
   "execution_count": null,
   "metadata": {},
   "outputs": [],
   "source": [
    "def b_splines_example():\n",
    "    fig, (ax1, ax2) = plt.subplots(1, 2, figsize=(21, 5))\n",
    "    x = np.linspace(-8, 8, 1000)\n",
    "    s = np.zeros_like(x)\n",
    "    for c in np.arange(-4, 4 + 1):\n",
    "        b = BSpline.create_cardinal(c)\n",
    "        y = b(x)\n",
    "        s += y\n",
    "        ax1.plot(x, y)\n",
    "    ax1.plot(x, s, label='BSplines sum', linewidth=1.5)\n",
    "    ax1.grid()\n",
    "    ax1.legend()\n",
    "    ax1.set_title(\"Standard basis on interval\")\n",
    "\n",
    "    x = np.linspace(-5, 5, 1000)\n",
    "    for s, c, n in zip((1, 2, 0.5), (-0.3, -1.7, 2.5), (2, 3, 4)):\n",
    "        b = BSpline.create_cardinal(c, s, n)\n",
    "        ax2.plot(x, b(x), label=f'c={c}, s={s}, n={n}')\n",
    "    ax2.grid()\n",
    "    ax2.legend()\n",
    "    ax2.set_title(\"Different parameters\")\n",
    "    plt.show()\n",
    "\n",
    "b_splines_example()"
   ]
  },
  {
   "cell_type": "markdown",
   "metadata": {},
   "source": [
    "# 2D BSpline Kernel basis"
   ]
  },
  {
   "cell_type": "code",
   "execution_count": null,
   "metadata": {},
   "outputs": [],
   "source": [
    "def bsplinekernel_example():\n",
    "    # 2d interval\n",
    "    interval = np.array((-100, 100, -100, 100)).reshape(2, 2)\n",
    "    # Number of centers\n",
    "    N = 10\n",
    "    kb = BSplineKernelBasis.create_randomly_centered(interval, 20, s=30, k=3)\n",
    "    \n",
    "    # Generate the meshgrid\n",
    "    xx, yy = np.meshgrid(*np.linspace(*zip(*interval)).T)\n",
    "    zz = kb(xx, yy)\n",
    "    res = np.zeros_like(zz[0])\n",
    "    for z in zz:\n",
    "        res += z.T\n",
    "    plt.figure(figsize=(15,6))\n",
    "    plt.scatter(*kb.c.T, marker='x', color='r')\n",
    "    plt.imshow(res, origin='lower', extent=interval.flatten())\n",
    "    plt.title('Example of a bspline kernel basis')\n",
    "    plt.show()\n",
    "\n",
    "bsplinekernel_example()"
   ]
  },
  {
   "cell_type": "code",
   "execution_count": null,
   "metadata": {},
   "outputs": [],
   "source": []
  }
 ],
 "metadata": {
  "kernelspec": {
   "display_name": "Python 3",
   "language": "python",
   "name": "python3"
  },
  "language_info": {
   "codemirror_mode": {
    "name": "ipython",
    "version": 3
   },
   "file_extension": ".py",
   "mimetype": "text/x-python",
   "name": "python",
   "nbconvert_exporter": "python",
   "pygments_lexer": "ipython3",
   "version": "3.7.3"
  }
 },
 "nbformat": 4,
 "nbformat_minor": 4
}
