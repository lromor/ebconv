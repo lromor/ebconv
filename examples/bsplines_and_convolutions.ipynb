{
 "cells": [
  {
   "cell_type": "code",
   "execution_count": null,
   "metadata": {},
   "outputs": [],
   "source": [
    "from ipywidgets import GridspecLayout, Output\n",
    "from IPython.display import display\n",
    "\n",
    "import numpy as np\n",
    "import matplotlib.pyplot as plt\n",
    "import sys\n",
    "sys.path.insert(0, '../src')\n",
    "import ebconv\n",
    "import ebconv.nn.functional\n",
    "import scipy\n",
    "import scipy.misc\n",
    "import time\n",
    "import scipy.ndimage\n",
    "import torch\n",
    "import torchvision\n",
    "from torchvision.transforms.functional import normalize\n",
    "import matplotlib.cm as cm\n"
   ]
  },
  {
   "cell_type": "code",
   "execution_count": null,
   "metadata": {},
   "outputs": [],
   "source": [
    "from ebconv.splines import BSpline\n",
    "from ebconv.kernel import BSplineKernel, create_random_centers\n",
    "from ebconv.utils import tensordot"
   ]
  },
  {
   "cell_type": "markdown",
   "metadata": {},
   "source": [
    "# BSplines examples"
   ]
  },
  {
   "cell_type": "code",
   "execution_count": null,
   "metadata": {},
   "outputs": [],
   "source": [
    "def b_splines_example():\n",
    "    fig, (ax1, ax2) = plt.subplots(1, 2, figsize=(21, 5))\n",
    "    x = np.linspace(-8, 8, 1000)\n",
    "    s = np.zeros_like(x)\n",
    "    for c in np.arange(-4, 4 + 1):\n",
    "        b = BSpline.create_cardinal(c)\n",
    "        y = b(x)\n",
    "        s += y\n",
    "        ax1.plot(x, y)\n",
    "    ax1.plot(x, s, label='BSplines sum', linewidth=1.5)\n",
    "    ax1.grid()\n",
    "    ax1.legend()\n",
    "    ax1.set_title(\"Standard basis on interval\")\n",
    "\n",
    "    x = np.linspace(-5, 5, 1000)\n",
    "    for s, c, n in zip((1, 2, 0.5), (-0.3, -1.7, 2.5), (2, 3, 4)):\n",
    "        b = BSpline.create_cardinal(c, s, n)\n",
    "        ax2.plot(x, b(x), label=f'c={c}, s={s}, n={n}')\n",
    "    ax2.grid()\n",
    "    ax2.legend()\n",
    "    ax2.set_title(\"Different parameters\")\n",
    "    plt.show()\n",
    "\n",
    "b_splines_example()"
   ]
  },
  {
   "cell_type": "markdown",
   "metadata": {},
   "source": [
    "# 2D BSpline Kernel basis"
   ]
  },
  {
   "cell_type": "code",
   "execution_count": null,
   "metadata": {},
   "outputs": [],
   "source": [
    "def bsplinekernel_example(N=16, s=48, k=4):\n",
    "    \"\"\"Example of how to use the BSplineKernelBasis.\n",
    "    \n",
    "    This is a simple example on how to generate \n",
    "    a set of randomly centered basis spline functions.\n",
    "    \"\"\"\n",
    "    # 2d interval, sample from top left to bottom right\n",
    "    # in this way the value (0, 0) corresponds to (-100, 100).\n",
    "    interval = np.array((100, -100, -100, 100)).reshape(2, 2)\n",
    "    c = create_random_centers(interval, N)\n",
    "    \n",
    "    # To test the coordinates of a single center.\n",
    "    #c = np.array((25, 25))[None, :]\n",
    "    kb = BSplineKernel.create(c=c, s=s, k=k)\n",
    "    \n",
    "    # Now we generate three sets of random weights\n",
    "    w = np.random.rand(3, N) * 2 - 1\n",
    "    \n",
    "    # Generate the meshgrid\n",
    "    xx, yy = np.meshgrid(*np.linspace(*zip(*interval), 200).T)\n",
    "    kb_channels = []\n",
    "    fig, axes = plt.subplots(1, 3, figsize=(15,6))\n",
    "    for ax, wa, cmap in zip(axes, w, ('Reds', 'Greens', 'Blues')):\n",
    "        kb.w = wa\n",
    "        kb_channels.append(kb.copy())\n",
    "        k = kb(xx, yy)\n",
    "        ax.scatter(*kb.c.T, marker='x', color='white')\n",
    "        ax.imshow(k, extent=(-100, 100, -100, 100), cmap=cmap)\n",
    "        ax.set_title(cmap)\n",
    "    plt.show()\n",
    "    return tuple(kb_channels), interval\n",
    "\n",
    "kb_channels, interval = bsplinekernel_example()"
   ]
  },
  {
   "cell_type": "markdown",
   "metadata": {},
   "source": [
    "# Example of a 2d convolution"
   ]
  },
  {
   "cell_type": "code",
   "execution_count": null,
   "metadata": {},
   "outputs": [],
   "source": [
    "def standard_convolution(kb_channels, interval, img):\n",
    "    # We sample a 2d kernel\n",
    "    linspaces = []\n",
    "    steps = []\n",
    "    for lb, ub in interval:\n",
    "        x, step = np.linspace(lb, ub, 100, retstep=True)\n",
    "        linspaces.append(x)\n",
    "        steps.append(step)\n",
    "    xx, yy = np.meshgrid(*np.linspace(*zip(*interval), 100).T)\n",
    "    \n",
    "    # Construct the per channel kernel weights\n",
    "    weights = torch.stack([torch.Tensor(kb(xx, yy))[None, :] for kb in kb_channels])\n",
    "    weights = weights\n",
    "    conv = torch.nn.functional.conv2d(img, weights, groups=3)\n",
    "    \n",
    "    conv = conv.numpy().squeeze()\n",
    "    conv = np.moveaxis(conv, 0, -1)\n",
    "    conv = np.interp(conv, (conv.min(), conv.max()), (0, 1))\n",
    "    return conv\n",
    "\n",
    "def shifted_convolution(kb_channels, interval, img):\n",
    "    # 1) Convolve the image once for every different center\n",
    "    # with a different decimal place.\n",
    "    # 2) Convolve the image for each of the different centers\n",
    "    # 3) Integral shift and sum the results!\n",
    "\n",
    "\n",
    "def bspline_convolution(kb_channels, interval):\n",
    "    # Our test image\n",
    "    img = scipy.misc.face()\n",
    "    img = torch.Tensor(np.moveaxis(img, -1, 0))\n",
    "    #img = normalize(img, (0, 0, 0), (100, 100, 100))\n",
    "    img = img[None, :]\n",
    "    \n",
    "    start_time = time.time()\n",
    "    conv = standard_convolution(kb_channels, interval, img)\n",
    "    print('Standard convolution elasped time: ', time.time() - start_time)\n",
    "    \n",
    "    plt.figure()\n",
    "    plt.imshow(conv)\n",
    "    plt.show()\n",
    "    \n",
    "_ = bspline_convolution(kb_channels, interval)\n"
   ]
  },
  {
   "cell_type": "code",
   "execution_count": null,
   "metadata": {},
   "outputs": [],
   "source": []
  }
 ],
 "metadata": {
  "kernelspec": {
   "display_name": "Python 3",
   "language": "python",
   "name": "python3"
  },
  "language_info": {
   "codemirror_mode": {
    "name": "ipython",
    "version": 3
   },
   "file_extension": ".py",
   "mimetype": "text/x-python",
   "name": "python",
   "nbconvert_exporter": "python",
   "pygments_lexer": "ipython3",
   "version": "3.7.3"
  }
 },
 "nbformat": 4,
 "nbformat_minor": 4
}
